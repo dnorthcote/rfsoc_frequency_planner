{
 "cells": [
  {
   "cell_type": "code",
   "execution_count": 1,
   "metadata": {},
   "outputs": [],
   "source": [
    "import numpy as np\n",
    "from ipywidgets import widgets\n",
    "import matplotlib.pyplot as plt\n",
    "# plt.rcParams.update({'figure.max_open_warning': 0}) # garbage collection should close plots when finished so safe to supress this warning\n",
    "# %matplotlib widget"
   ]
  },
  {
   "cell_type": "code",
   "execution_count": 2,
   "metadata": {},
   "outputs": [],
   "source": [
    "class FrequencyPlannerADC:\n",
    "\n",
    "    def __init__(self, fs_rf=4092, fc=1175.42, fs_bw=10.23, pll_ref=409.2, il_factor=8):\n",
    "        self.fs_rf = fs_rf\n",
    "        self.fc = fc\n",
    "        self.fs_bw = fs_bw\n",
    "        self.pll_ref = pll_ref\n",
    "        self.il_factor = il_factor\n",
    "        \n",
    "        self.f = np.linspace(-0.5,0.5,100)\n",
    "        \n",
    "    @property\n",
    "    def signal_f(self):\n",
    "        fs_rf = self.fs_rf\n",
    "        fs_bw = self.fs_bw\n",
    "        fc = self.fc\n",
    "        f = self.f\n",
    "        \n",
    "        return [fs_rf - ((fc+fs_bw*i) % fs_rf) if ((fc+fs_bw*i) % fs_rf) >= fs_rf/2 else ((fc+fs_bw*i) % fs_rf) for i in f]\n",
    "\n",
    "    @property\n",
    "    def interf_f(self):\n",
    "        fc = self.fc\n",
    "        fs_bw = self.fs_bw\n",
    "        f = self.f\n",
    "        return [fc+(fs_bw*i) for i in f]\n",
    "    \n",
    "    @property    \n",
    "    def hd(self):\n",
    "        fs_rf = self.fs_rf\n",
    "        \n",
    "        hd2 = [fs_rf - (2*i % fs_rf) if 2*i % fs_rf >= fs_rf/2 else (2*i % fs_rf) for i in self.interf_f]\n",
    "        hd3 = [fs_rf - (3*i % fs_rf) if 3*i % fs_rf >= fs_rf/2 else (3*i % fs_rf) for i in self.interf_f]\n",
    "        hd4 = [fs_rf - (4*i % fs_rf) if 4*i % fs_rf >= fs_rf/2 else (4*i % fs_rf) for i in self.interf_f]\n",
    "        hd5 = [fs_rf - (5*i % fs_rf) if 5*i % fs_rf >= fs_rf/2 else (5*i % fs_rf) for i in self.interf_f]\n",
    "        \n",
    "        return hd2, hd3, hd4, hd5\n",
    "    \n",
    "    @property\n",
    "    def il(self):\n",
    "        fs_rf = self.fs_rf\n",
    "        \n",
    "        if self.il_factor > 1:\n",
    "            il1 = [abs(fs_rf/2 - i) for i in self.signal_f]\n",
    "        else:\n",
    "            il1 = 0\n",
    "\n",
    "        if self.il_factor > 2:\n",
    "            il2 = [abs(fs_rf/4 - i) for i in self.signal_f]\n",
    "            il3 = [abs(fs_rf/4 + i) if ((fs_rf/4 + i) < fs_rf/2) else abs(fs_rf/4*3-i) for i in self.signal_f]\n",
    "        else:\n",
    "            il2 = il3 = 0\n",
    "\n",
    "        if self.il_factor > 4:\n",
    "            il4 = [abs(fs_rf/8 - i) for i in self.signal_f]\n",
    "            il5 = [abs(fs_rf/8 + i) if ((fs_rf/8 + i) < fs_rf/2) else abs(fs_rf/8*7-i) for i in self.signal_f]\n",
    "            il6 = [abs(fs_rf/8*3-i) for i in self.signal_f]\n",
    "            il7 = [abs(fs_rf/8*3+i) if ((fs_rf/8*3+i) < fs_rf/2) else abs(fs_rf/8*5-i) for i in self.signal_f]\n",
    "        else:\n",
    "            il4 = il5 = il6 = il7 = 0\n",
    "\n",
    "        return il1, il2, il3, il4, il5, il6, il7\n",
    "    \n",
    "    @property\n",
    "    def fs_hd(self):\n",
    "        fs_rf = self.fs_rf\n",
    "        hd2 = self.hd[0]\n",
    "        hd3 = self.hd[1]\n",
    "\n",
    "        if self.il_factor > 1:\n",
    "            fs2_m_hd2 = [abs(fs_rf/2-i) for i in hd2]\n",
    "            fs2_m_hd3 = [fs_rf/2-i for i in hd3]\n",
    "        else:\n",
    "            fs2_m_hd2 = fs2_m_hd3 = 0\n",
    "\n",
    "        if self.il_factor > 2:\n",
    "            fs4_m_hd2 = [abs(fs_rf/4-i) for i in hd2]\n",
    "            fs4_p_hd2 = [abs(fs_rf/4+i) if (fs_rf/4+i < fs_rf/2) else abs(fs_rf/4*3-i) for i in hd2]\n",
    "            fs4_m_hd3 = [abs(fs_rf/4-i) for i in hd3]\n",
    "            fs4_p_hd3 = [abs(fs_rf/4+i) if (fs_rf/4+i < fs_rf/2) else abs(fs_rf/4*3-i) for i in hd3]    \n",
    "        else:\n",
    "            fs4_m_hd2 = fs4_p_hd2 = fs4_m_hd3 = fs4_p_hd3 = 0\n",
    "\n",
    "        if self.il_factor > 4:\n",
    "            fs8_m_hd2 = [abs(fs_rf/8-i) for i in hd2]\n",
    "            fs8_p_hd2 = [abs(fs_rf/8+i) if (fs_rf/8+i < fs_rf/2) else abs(fs_rf/8*7-i) for i in hd2]\n",
    "            fs8_m_hd3 = [abs(fs_rf/8-i) for i in hd3]\n",
    "            fs8_p_hd3 = [abs(fs_rf/8+i) if (fs_rf/8+i < fs_rf/2) else abs(fs_rf/8*7-i) for i in hd3]\n",
    "        else:\n",
    "            fs8_m_hd2 = fs8_p_hd2 = fs8_m_hd3 = fs8_p_hd3 = 0\n",
    "\n",
    "        return fs2_m_hd2, fs2_m_hd3, fs4_m_hd2, fs4_p_hd2, fs4_m_hd3, fs4_p_hd3, fs8_m_hd2, fs8_p_hd2, fs8_m_hd3, fs8_p_hd3\n",
    "\n",
    "    @property\n",
    "    def calibration_mode(self):\n",
    "        fs_rf = self.fs_rf\n",
    "        fc = self.fc\n",
    "        \n",
    "        if ((fs_rf/2*0.7 < fc) and (fc < fs_rf/2*1.3)) or ((fs_rf/2*3-0.3*fs_rf/2 < fc) and (fc < fs_rf/2*3+0.3*fs_rf/2)) or ((fs_rf/2*5-0.3*fs_rf/2 < fc) and (fc < fs_rf/2*5+0.3*fs_rf/2)) or ((fs_rf/2*7-0.3*fs_rf/2 < fc) and (fc < fs_rf/2*7+0.3*rf_fs/2)) or ((fs_rf/2*9+0.3*fs_rf/2 < fc) and (fc < fs_rf/2*9+0.3*fs_rf/2)):\n",
    "            return \"Calibration Mode: Mode 1\"\n",
    "        else:\n",
    "            return \"Calibration Mode: Mode 2\""
   ]
  },
  {
   "cell_type": "code",
   "execution_count": 3,
   "metadata": {},
   "outputs": [],
   "source": [
    "x = FrequencyPlannerADC(4092, 1175.42, 100.23, 409.2, 8)"
   ]
  },
  {
   "cell_type": "code",
   "execution_count": 17,
   "metadata": {},
   "outputs": [],
   "source": [
    "x.fs_rf = 2000"
   ]
  },
  {
   "cell_type": "code",
   "execution_count": 15,
   "metadata": {},
   "outputs": [],
   "source": [
    "class FrequencyPlannerPlot:\n",
    "    \n",
    "    def __init__(self, fig, ax):\n",
    "        self.fig = fig\n",
    "        self.ax = ax\n",
    "        \n",
    "    def setup_plot(self):\n",
    "        self.ax.grid(True)\n",
    "        self.ax.set_xlabel('Frequency (MHz)', fontsize=10)\n",
    "        self.ax.set_ylabel('Harmonic No.', fontsize=10)\n",
    "        self.ax.set_xlim([0, 4096/2 + 4096*0.01])\n",
    "        self.ax.set_ylim([0, 7])\n",
    "        self.ax.grid(True)\n",
    "        \n",
    "    def make_plot(self, signal_f, fs_rf):\n",
    "        \n",
    "        rx_line_a, = ax.plot([min(signal_f), max(signal_f)], np.repeat(6,2), label='Rx Band', marker='D', color='tab:blue')\n",
    "        rx_line_b = ax.axvline(x=min(signal_f), ymin=0, ymax=6/7, color='tab:blue')\n",
    "        rx_line_c = ax.axvline(x=max(signal_f), ymin=0, ymax=6/7, color='tab:blue')\n",
    "        \n",
    "        # Nyquist\n",
    "        nyq_line_a, = ax.plot(fs_rf/2, 6, marker='D', color='tab:gray', label='Nyquist')\n",
    "        nyq_line_b  = ax.axvline(x=fs_rf/2, ymin=0, ymax=6/7, color='tab:gray')\n",
    "        \n",
    "        self.ax.legend(bbox_to_anchor=(1.05,1),fontsize=9, borderaxespad=0., loc=2)\n",
    "        self.fig.tight_layout()"
   ]
  },
  {
   "cell_type": "code",
   "execution_count": 18,
   "metadata": {},
   "outputs": [
    {
     "data": {
      "image/png": "[encoded data removed]",
      "text/plain": [
       "<Figure size 648x360 with 1 Axes>"
      ]
     },
     "metadata": {
      "needs_background": "light"
     },
     "output_type": "display_data"
    }
   ],
   "source": [
    "fig, ax = plt.subplots(figsize=(9,5))\n",
    "\n",
    "y = FrequencyPlannerPlot(fig, ax)\n",
    "y.setup_plot()\n",
    "y.make_plot(x.signal_f, x.fs_rf)"
   ]
  },
  {
   "cell_type": "code",
   "execution_count": null,
   "metadata": {},
   "outputs": [],
   "source": []
  }
 ],
 "metadata": {
  "kernelspec": {
   "display_name": "Python 3",
   "language": "python",
   "name": "python3"
  },
  "language_info": {
   "codemirror_mode": {
    "name": "ipython",
    "version": 3
   },
   "file_extension": ".py",
   "mimetype": "text/x-python",
   "name": "python",
   "nbconvert_exporter": "python",
   "pygments_lexer": "ipython3",
   "version": "3.6.9"
  }
 },
 "nbformat": 4,
 "nbformat_minor": 4
}
